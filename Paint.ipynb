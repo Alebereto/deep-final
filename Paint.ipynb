{
 "cells": [
  {
   "cell_type": "code",
   "execution_count": 1,
   "metadata": {},
   "outputs": [],
   "source": [
    "from model.MainModel import Painter\n",
    "import os\n",
    "import cv2\n",
    "\n",
    "MODEL_NAME = 'final final'\n",
    "IMAGE_DIR = 'paint'"
   ]
  },
  {
   "cell_type": "markdown",
   "metadata": {},
   "source": [
    "Place gray images in \"paint\" directory and run program.\n",
    "The colored images will be created in the same directory with a \"colored_\" prefix."
   ]
  },
  {
   "cell_type": "code",
   "execution_count": 2,
   "metadata": {},
   "outputs": [],
   "source": [
    "painter = Painter(MODEL_NAME, load=True)\n",
    "\n",
    "# Get names of files in the image directory\n",
    "file_names = os.listdir(IMAGE_DIR)\n",
    "\n",
    "# Get names of images to color\n",
    "color_names = list()\n",
    "for name in file_names:\n",
    "\tif (name.endswith('.jpg') or name.endswith('.png')) and not name.startswith('colored_'):\n",
    "\t\tcolor_names.append(name)\n",
    "\n",
    "for name in color_names:\n",
    "\tgray = cv2.imread(os.path.join(IMAGE_DIR, name), cv2.IMREAD_GRAYSCALE)\t# read gray image\n",
    "\n",
    "\tcolor = painter.paint(gray)\t# paint gray image\n",
    "\n",
    "\t# save image\n",
    "\tcolor = cv2.cvtColor(color, cv2.COLOR_RGB2BGR)\n",
    "\tsave_path = os.path.join(IMAGE_DIR, f'colored_{name}')\n",
    "\tcv2.imwrite(save_path, color)"
   ]
  }
 ],
 "metadata": {
  "kernelspec": {
   "display_name": "Python 3",
   "language": "python",
   "name": "python3"
  },
  "language_info": {
   "codemirror_mode": {
    "name": "ipython",
    "version": 3
   },
   "file_extension": ".py",
   "mimetype": "text/x-python",
   "name": "python",
   "nbconvert_exporter": "python",
   "pygments_lexer": "ipython3",
   "version": "3.12.2"
  }
 },
 "nbformat": 4,
 "nbformat_minor": 2
}
