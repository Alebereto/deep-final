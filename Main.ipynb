{
  "cells": [
    {
      "cell_type": "markdown",
      "metadata": {},
      "source": [
        "# Deep Learning Final Project\n",
        "\n",
        "Submitted by: Albert Khayat - 212747026, David Afik - 318267721"
      ]
    },
    {
      "cell_type": "markdown",
      "metadata": {
        "id": "gQF0QKjrXgmc",
        "tags": []
      },
      "source": [
        "# Setup"
      ]
    },
    {
      "cell_type": "markdown",
      "metadata": {
        "id": "etFTf2zxlEcA"
      },
      "source": [
        "### Imports"
      ]
    },
    {
      "cell_type": "code",
      "execution_count": 1,
      "metadata": {
        "id": "J0S7FziN9ci5",
        "notebookRunGroups": {
          "groupValue": "1"
        }
      },
      "outputs": [],
      "source": [
        "import torch\n",
        "\n",
        "from os import path\n",
        "from importlib import reload  \t\t# for reloading modules\n",
        "from collections import namedtuple\t# for parameters\n",
        "\n",
        "from model.MainModel import Painter\n",
        "from data import ImagesDataset\n"
      ]
    },
    {
      "cell_type": "markdown",
      "metadata": {
        "id": "q5MHZ08OlJdB"
      },
      "source": [
        "### Configurations"
      ]
    },
    {
      "cell_type": "code",
      "execution_count": 2,
      "metadata": {
        "id": "C5LiryXY9xd9",
        "notebookRunGroups": {
          "groupValue": "1"
        },
        "tags": []
      },
      "outputs": [],
      "source": [
        "DATA_PATH = \"data\\images\"\n",
        "SAVE_PATH = \"results\""
      ]
    },
    {
      "cell_type": "code",
      "execution_count": 3,
      "metadata": {
        "colab": {
          "base_uri": "https://localhost:8080/"
        },
        "id": "Zrv3yvCe9ut7",
        "notebookRunGroups": {
          "groupValue": "1"
        },
        "outputId": "29a87dab-31e3-4eca-970c-e36f1f8b23cf"
      },
      "outputs": [
        {
          "name": "stdout",
          "output_type": "stream",
          "text": [
            "CUDA version: 12.1\n",
            "Name of current CUDA device: NVIDIA GeForce RTX 3060 Laptop GPU\n"
          ]
        }
      ],
      "source": [
        "if torch.cuda.is_available():\n",
        "    device = torch.device('cuda')\n",
        "    print(f\"CUDA version: {torch.version.cuda}\")\n",
        "    print(f\"Name of current CUDA device: {torch.cuda.get_device_name(torch.cuda.current_device())}\")\n",
        "\n",
        "else:\n",
        "    device = torch.device('cpu')\n",
        "    print('Running on CPU')"
      ]
    },
    {
      "cell_type": "markdown",
      "metadata": {
        "id": "byNCQ_xklQMZ"
      },
      "source": [
        "### Load Data"
      ]
    },
    {
      "cell_type": "code",
      "execution_count": 4,
      "metadata": {
        "id": "WTKW168PpVoY",
        "notebookRunGroups": {
          "groupValue": "1"
        }
      },
      "outputs": [],
      "source": [
        "TRAIN_SIZE = 8500\n",
        "\n",
        "BATCH_SIZE_TRAIN = 500\n",
        "BATCH_SIZE_TEST = 800\n",
        "SPLIT_SEED = None\n",
        "\n",
        "# Get dataset\n",
        "train_data, test_data = ImagesDataset.create_datasets(DATA_PATH, TRAIN_SIZE, SPLIT_SEED)\n",
        "\n",
        "train_loader = torch.utils.data.DataLoader(train_data, batch_size=BATCH_SIZE_TRAIN, shuffle=True, pin_memory=True)\n",
        "test_loader = torch.utils.data.DataLoader(test_data, batch_size=BATCH_SIZE_TEST, shuffle=True, pin_memory=True)"
      ]
    },
    {
      "cell_type": "markdown",
      "metadata": {
        "id": "iLQ0XJ5clTSL"
      },
      "source": [
        "# Train Model"
      ]
    },
    {
      "cell_type": "code",
      "execution_count": 7,
      "metadata": {
        "id": "fWiTDWXhmcLv",
        "notebookRunGroups": {
          "groupValue": "2"
        }
      },
      "outputs": [],
      "source": [
        "reload(Painter)\n",
        "# Training parameters\n",
        "SAVE_MODEL = False\t\t# If True, saves model every epoch\n",
        "MODEL_NAME = \"Model1\"\t# Used for save path\n",
        "\n",
        "NUM_EPOCHS = 30"
      ]
    },
    {
      "cell_type": "code",
      "execution_count": null,
      "metadata": {
        "colab": {
          "base_uri": "https://localhost:8080/"
        },
        "id": "7nR68udf-EpA",
        "notebookRunGroups": {
          "groupValue": "2"
        },
        "outputId": "fd39e405-065f-4b9e-e064-69245ea1c9c6"
      },
      "outputs": [],
      "source": [
        "# model parameters\n",
        "Hyparams = namedtuple('Hyperparameters', ['lr_d','lr_g'])\n",
        "\n",
        "hyparams = Hyparams(0.01, 0.01)\n",
        "g_params = None\n",
        "d_params = None\n",
        "\n",
        "# create model\n",
        "model = Painter(hyparams, g_params, d_params, MODEL_NAME)\n",
        "\n",
        "print(f\"Number of parameters: {model.count_parameters()}\")"
      ]
    },
    {
      "cell_type": "code",
      "execution_count": null,
      "metadata": {
        "colab": {
          "base_uri": "https://localhost:8080/",
          "height": 1000
        },
        "id": "6JPf2-xCodNx",
        "notebookRunGroups": {
          "groupValue": ""
        },
        "outputId": "86cd06fc-5475-4ba8-ea28-8824a3daf239"
      },
      "outputs": [],
      "source": [
        "if MODEL_NAME is not None:\n",
        "\tmodel = Painter(load_path=MODEL_NAME)\n",
        "\n",
        "# Train model\n",
        "for _ in range(NUM_EPOCHS):\n",
        "\tmodel.train_model(train_loader, test_loader, SAVE_MODEL)\n",
        "\n",
        "\tif SAVE_MODEL: # save backup\n",
        "\t\t\tmodel.save()"
      ]
    },
    {
      "cell_type": "markdown",
      "metadata": {},
      "source": [
        "# Test Model"
      ]
    },
    {
      "cell_type": "code",
      "execution_count": 9,
      "metadata": {
        "colab": {
          "base_uri": "https://localhost:8080/"
        },
        "id": "MgNncgEguMhk",
        "notebookRunGroups": {
          "groupValue": "3"
        },
        "outputId": "ad01bb7b-e9af-4e46-c249-c31b7ff6f0bc"
      },
      "outputs": [
        {
          "name": "stdout",
          "output_type": "stream",
          "text": [
            "Test accuracy = 0.5116\n"
          ]
        }
      ],
      "source": [
        "MODEL_PATH = None\n",
        "\n",
        "if MODEL_PATH is not None:\n",
        "    model = Painter(load_path=MODEL_PATH)\n",
        "    \n",
        "# test model"
      ]
    }
  ],
  "metadata": {
    "accelerator": "GPU",
    "colab": {
      "collapsed_sections": [
        "etFTf2zxlEcA",
        "q5MHZ08OlJdB",
        "Ou1l_8_baaV0",
        "DRYNcu4mk8Mr",
        "byNCQ_xklQMZ",
        "ZwRAa6SGnHQ2",
        "Cqad-gAqNiOi"
      ],
      "gpuType": "T4",
      "provenance": []
    },
    "kernelspec": {
      "display_name": "Python 3",
      "name": "python3"
    },
    "language_info": {
      "codemirror_mode": {
        "name": "ipython",
        "version": 3
      },
      "file_extension": ".py",
      "mimetype": "text/x-python",
      "name": "python",
      "nbconvert_exporter": "python",
      "pygments_lexer": "ipython3",
      "version": "3.9.7"
    }
  },
  "nbformat": 4,
  "nbformat_minor": 0
}
