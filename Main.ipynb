{
  "cells": [
    {
      "cell_type": "markdown",
      "metadata": {},
      "source": [
        "# Deep Learning Final Project\n",
        "\n",
        "Submitted by: Albert Khayat - 212747026, David Afik - 318267721"
      ]
    },
    {
      "cell_type": "markdown",
      "metadata": {
        "id": "gQF0QKjrXgmc",
        "tags": []
      },
      "source": [
        "# Setup"
      ]
    },
    {
      "cell_type": "markdown",
      "metadata": {
        "id": "etFTf2zxlEcA"
      },
      "source": [
        "### Imports"
      ]
    },
    {
      "cell_type": "code",
      "execution_count": 1,
      "metadata": {
        "id": "J0S7FziN9ci5",
        "notebookRunGroups": {
          "groupValue": "1"
        }
      },
      "outputs": [],
      "source": [
        "import torch\n",
        "\n",
        "from collections import namedtuple\t# for parameters\n",
        "\n",
        "from model.MainModel import Painter\n",
        "from data import ImagesDataset\n"
      ]
    },
    {
      "cell_type": "markdown",
      "metadata": {
        "id": "q5MHZ08OlJdB"
      },
      "source": [
        "### Configurations"
      ]
    },
    {
      "cell_type": "code",
      "execution_count": 2,
      "metadata": {
        "colab": {
          "base_uri": "https://localhost:8080/"
        },
        "id": "Zrv3yvCe9ut7",
        "notebookRunGroups": {
          "groupValue": "1"
        },
        "outputId": "29a87dab-31e3-4eca-970c-e36f1f8b23cf"
      },
      "outputs": [
        {
          "name": "stdout",
          "output_type": "stream",
          "text": [
            "CUDA version: 12.1\n",
            "Name of current CUDA device: NVIDIA GeForce RTX 3060 Laptop GPU\n"
          ]
        }
      ],
      "source": [
        "print(f\"CUDA version: {torch.version.cuda}\")\n",
        "\n",
        "if torch.cuda.is_available():\n",
        "    device = torch.device('cuda')\n",
        "    print(f\"Name of current CUDA device: {torch.cuda.get_device_name(torch.cuda.current_device())}\")\n",
        "else:\n",
        "    device = torch.device('cpu')\n",
        "    print('Running on CPU')"
      ]
    },
    {
      "cell_type": "markdown",
      "metadata": {
        "id": "byNCQ_xklQMZ"
      },
      "source": [
        "### Load Data"
      ]
    },
    {
      "cell_type": "code",
      "execution_count": 3,
      "metadata": {
        "id": "WTKW168PpVoY",
        "notebookRunGroups": {
          "groupValue": "1"
        }
      },
      "outputs": [],
      "source": [
        "DATA_PATH = \"data\\\\food\"\n",
        "\n",
        "TRAIN_SIZE = 20000\n",
        "TEST_SIZE = 1000\n",
        "\n",
        "BATCH_SIZE_TRAIN = 1000\n",
        "BATCH_SIZE_TEST = 1000\n",
        "\n",
        "SPLIT_SEED = 12345\n",
        "\n",
        "# Get dataset\n",
        "train_data, test_data = ImagesDataset.create_datasets(DATA_PATH, TRAIN_SIZE, TEST_SIZE, SPLIT_SEED, device)\n",
        "\n",
        "train_loader = torch.utils.data.DataLoader(train_data, batch_size=BATCH_SIZE_TRAIN, shuffle=True, pin_memory=True)\n",
        "test_loader = torch.utils.data.DataLoader(test_data, batch_size=BATCH_SIZE_TEST, shuffle=True, pin_memory=True)"
      ]
    },
    {
      "cell_type": "markdown",
      "metadata": {
        "id": "iLQ0XJ5clTSL"
      },
      "source": [
        "# Train Model"
      ]
    },
    {
      "cell_type": "code",
      "execution_count": 4,
      "metadata": {
        "id": "fWiTDWXhmcLv",
        "notebookRunGroups": {
          "groupValue": "2"
        }
      },
      "outputs": [],
      "source": [
        "# Training parameters\n",
        "MODEL_NAME = \"Model1\"\t# Used for save path\n",
        "PRE_TRAIN = True\t\t# if True, pre-trains generator\n",
        "LOAD = False\t\t\t# if True, loads model with model_name before train\n",
        "SAVE_MODEL = True\t\t# if True, saves model every epoch\n",
        "\n",
        "NUM_EPOCHS = 30\n",
        "PRE_EPOCHS = 20"
      ]
    },
    {
      "cell_type": "code",
      "execution_count": 5,
      "metadata": {
        "colab": {
          "base_uri": "https://localhost:8080/"
        },
        "id": "7nR68udf-EpA",
        "notebookRunGroups": {
          "groupValue": "2"
        },
        "outputId": "fd39e405-065f-4b9e-e064-69245ea1c9c6"
      },
      "outputs": [
        {
          "name": "stdout",
          "output_type": "stream",
          "text": [
            "Number of parameters: 7980330\n"
          ]
        }
      ],
      "source": [
        "# model parameters\n",
        "Hyparams = namedtuple('Hyperparameters', ['lr_d','lr_g','lr_pre'])\n",
        "\n",
        "hyparams = Hyparams(1e-3, 1e-3, 1e-4)\n",
        "\n",
        "# create model\n",
        "model = Painter(MODEL_NAME, hyparams, LOAD, device)\n",
        "\n",
        "print(f\"Number of parameters: {model.count_parameters()}\")"
      ]
    },
    {
      "cell_type": "code",
      "execution_count": null,
      "metadata": {
        "notebookRunGroups": {
          "groupValue": "2"
        }
      },
      "outputs": [],
      "source": [
        "if PRE_TRAIN:\n",
        "\t# Pre-train generator\n",
        "\tfor e in range(PRE_EPOCHS):\n",
        "\t\tprint(f\"Epoch {e+1}/{PRE_EPOCHS}\")\n",
        "\n",
        "\t\ttrain_loss = model.pretrain_generator(train_loader)\n",
        "\t\ttest_loss = model.test_model(test_loader, pretrain=True)\n",
        "\t\t\n",
        "\t\tprint(f\"Generator test loss: {test_loss}\")\n",
        "\t\tmodel.logger.plot_coloring()\n",
        "\n",
        "\t\tmodel.logger.after_pretrain(train_loss, test_loss)\n",
        "\n",
        "\t\tif SAVE_MODEL: model.save()\n",
        "\n",
        "model.logger.plot_performence(pretrain=True)"
      ]
    },
    {
      "cell_type": "code",
      "execution_count": null,
      "metadata": {
        "colab": {
          "base_uri": "https://localhost:8080/",
          "height": 1000
        },
        "id": "6JPf2-xCodNx",
        "notebookRunGroups": {
          "groupValue": "2"
        },
        "outputId": "86cd06fc-5475-4ba8-ea28-8824a3daf239"
      },
      "outputs": [],
      "source": [
        "# Train model\n",
        "for e in range(NUM_EPOCHS):\n",
        "\tprint(f\"Training epoch {(e+1) + model.logger.epochs_trained}/{NUM_EPOCHS + model.logger.epochs_trained}\")\n",
        "\n",
        "\ttrain_loss = model.train_model(train_loader)\n",
        "\ttest_loss = model.test_model(test_loader)\n",
        "\n",
        "\t# Show loss and coloring after epoch\n",
        "\tprint(f\"Test - Discriminator loss: {test_loss[1]},  Generator loss: {test_loss[0]}\")\n",
        "\tmodel.logger.plot_coloring()\n",
        "\n",
        "\tmodel.logger.after_epoch(train_loss, test_loss)\t# add loss to logger\n",
        "\n",
        "\tif SAVE_MODEL: model.save()\n",
        "\n",
        "model.logger.plot_performence()"
      ]
    },
    {
      "cell_type": "markdown",
      "metadata": {},
      "source": [
        "# Test Model"
      ]
    },
    {
      "cell_type": "code",
      "execution_count": null,
      "metadata": {
        "colab": {
          "base_uri": "https://localhost:8080/"
        },
        "id": "MgNncgEguMhk",
        "notebookRunGroups": {
          "groupValue": "3"
        },
        "outputId": "ad01bb7b-e9af-4e46-c249-c31b7ff6f0bc"
      },
      "outputs": [],
      "source": [
        "# If set to None, tests model from the prevous code blocks\n",
        "model_name = None\n",
        "\n",
        "if model_name is not None: model = Painter(model_name, load=True, device=device)"
      ]
    },
    {
      "cell_type": "code",
      "execution_count": null,
      "metadata": {
        "notebookRunGroups": {
          "groupValue": "3"
        }
      },
      "outputs": [],
      "source": [
        "model.test_model(test_loader)\n",
        "model.logger.plot_coloring()"
      ]
    }
  ],
  "metadata": {
    "accelerator": "GPU",
    "colab": {
      "collapsed_sections": [
        "etFTf2zxlEcA",
        "q5MHZ08OlJdB",
        "Ou1l_8_baaV0",
        "DRYNcu4mk8Mr",
        "byNCQ_xklQMZ",
        "ZwRAa6SGnHQ2",
        "Cqad-gAqNiOi"
      ],
      "gpuType": "T4",
      "provenance": []
    },
    "kernelspec": {
      "display_name": "Python 3",
      "name": "python3"
    },
    "language_info": {
      "codemirror_mode": {
        "name": "ipython",
        "version": 3
      },
      "file_extension": ".py",
      "mimetype": "text/x-python",
      "name": "python",
      "nbconvert_exporter": "python",
      "pygments_lexer": "ipython3",
      "version": "3.9.7"
    }
  },
  "nbformat": 4,
  "nbformat_minor": 0
}
