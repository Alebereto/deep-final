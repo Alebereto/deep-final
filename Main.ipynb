{
  "cells": [
    {
      "cell_type": "markdown",
      "metadata": {},
      "source": [
        "# Deep Learning Final Project\n",
        "\n",
        "Submitted by: Albert Khayat - 212747026, David Afik - 318267721"
      ]
    },
    {
      "cell_type": "markdown",
      "metadata": {
        "id": "gQF0QKjrXgmc",
        "tags": []
      },
      "source": [
        "# Setup"
      ]
    },
    {
      "cell_type": "markdown",
      "metadata": {
        "id": "etFTf2zxlEcA"
      },
      "source": [
        "### Imports"
      ]
    },
    {
      "cell_type": "code",
      "execution_count": 1,
      "metadata": {
        "id": "J0S7FziN9ci5",
        "notebookRunGroups": {
          "groupValue": "1"
        }
      },
      "outputs": [],
      "source": [
        "import torch\n",
        "\n",
        "from model.MainModel import Painter\n",
        "from data import ImagesDataset\n"
      ]
    },
    {
      "cell_type": "markdown",
      "metadata": {
        "id": "q5MHZ08OlJdB"
      },
      "source": [
        "### Configurations"
      ]
    },
    {
      "cell_type": "code",
      "execution_count": 2,
      "metadata": {
        "colab": {
          "base_uri": "https://localhost:8080/"
        },
        "id": "Zrv3yvCe9ut7",
        "notebookRunGroups": {
          "groupValue": "1"
        },
        "outputId": "29a87dab-31e3-4eca-970c-e36f1f8b23cf"
      },
      "outputs": [
        {
          "name": "stdout",
          "output_type": "stream",
          "text": [
            "CUDA version: 12.1\n",
            "Name of current CUDA device: NVIDIA GeForce RTX 3060 Laptop GPU\n"
          ]
        }
      ],
      "source": [
        "print(f\"CUDA version: {torch.version.cuda}\")\n",
        "\n",
        "if torch.cuda.is_available():\n",
        "    device = torch.device('cuda')\n",
        "    print(f\"Name of current CUDA device: {torch.cuda.get_device_name(torch.cuda.current_device())}\")\n",
        "else:\n",
        "    device = torch.device('cpu')\n",
        "    print('Running on CPU')"
      ]
    },
    {
      "cell_type": "markdown",
      "metadata": {
        "id": "byNCQ_xklQMZ"
      },
      "source": [
        "### Load Data"
      ]
    },
    {
      "cell_type": "code",
      "execution_count": 3,
      "metadata": {
        "id": "WTKW168PpVoY",
        "notebookRunGroups": {
          "groupValue": "1"
        }
      },
      "outputs": [],
      "source": [
        "DATA_PATH = \"data\\\\food\"\n",
        "\n",
        "TRAIN_SIZE = 10000\n",
        "TEST_SIZE = 1500\n",
        "\n",
        "BATCH_SIZE_TRAIN = 20\n",
        "BATCH_SIZE_TEST = 20\n",
        "\n",
        "SPLIT_SEED = 1234\n",
        "\n",
        "# Get dataset\n",
        "train_data, test_data = ImagesDataset.create_datasets(DATA_PATH, TRAIN_SIZE, TEST_SIZE, SPLIT_SEED, device)\n",
        "\n",
        "train_loader = torch.utils.data.DataLoader(train_data, batch_size=BATCH_SIZE_TRAIN, shuffle=True, pin_memory=False)\n",
        "test_loader = torch.utils.data.DataLoader(test_data, batch_size=BATCH_SIZE_TEST, shuffle=True, pin_memory=False)"
      ]
    },
    {
      "cell_type": "markdown",
      "metadata": {
        "id": "iLQ0XJ5clTSL"
      },
      "source": [
        "# Train Model"
      ]
    },
    {
      "cell_type": "code",
      "execution_count": 4,
      "metadata": {
        "id": "fWiTDWXhmcLv",
        "notebookRunGroups": {
          "groupValue": "2"
        }
      },
      "outputs": [],
      "source": [
        "# Training parameters\n",
        "MODEL_NAME = \"super test\"\t\t# Used for save path\n",
        "PRE_TRAIN = True\t\t# if True, pre-trains generator\n",
        "LOAD = False\t\t\t# if True, loads model with model_name before train\n",
        "LOAD_PRETRAIN = False\t# if True, loads pre-train data\n",
        "SAVE_MODEL = True\t\t# if True, saves model every epoch\n",
        "\n",
        "NUM_EPOCHS = 2\n",
        "PRE_EPOCHS = 2"
      ]
    },
    {
      "cell_type": "code",
      "execution_count": 5,
      "metadata": {
        "colab": {
          "base_uri": "https://localhost:8080/"
        },
        "id": "7nR68udf-EpA",
        "notebookRunGroups": {
          "groupValue": "2"
        },
        "outputId": "fd39e405-065f-4b9e-e064-69245ea1c9c6"
      },
      "outputs": [
        {
          "name": "stdout",
          "output_type": "stream",
          "text": [
            "Number of generator parameters: 9,155,618\n",
            "Number of discriminator parameters: 3,921,664\n",
            "Number of parameters: 13,077,282\n"
          ]
        }
      ],
      "source": [
        "# Create model\n",
        "model = Painter(MODEL_NAME, load=LOAD, load_pretrain=LOAD_PRETRAIN, device=device).to(device)\n",
        "\n",
        "n_params_g, n_params_d = model.count_parameters()\n",
        "print(f\"Number of generator parameters: {n_params_g:,}\")\n",
        "print(f\"Number of discriminator parameters: {n_params_d:,}\")\n",
        "print(f\"Number of parameters: {(n_params_d + n_params_g):,}\")"
      ]
    },
    {
      "cell_type": "code",
      "execution_count": null,
      "metadata": {
        "notebookRunGroups": {
          "groupValue": "2"
        }
      },
      "outputs": [],
      "source": [
        "if PRE_TRAIN:\n",
        "\t# Pre-train generator\n",
        "\tfor e in range(PRE_EPOCHS):\n",
        "\t\tprint(f\"Epoch {model.logger.epochs_pretrained+1}/{PRE_EPOCHS + model.logger.epochs_pretrained - e}\")\n",
        "\n",
        "\t\ttrain_loss = model.pretrain_generator(train_loader)\n",
        "\t\ttest_loss = model.test_model(test_loader, pretrain=True)\n",
        "\t\t\n",
        "\t\tprint(f\"Generator test loss: {test_loss:.6f}\")\n",
        "\t\tmodel.logger.plot_coloring()\n",
        "\n",
        "\t\tmodel.logger.after_pretrain(train_loss, test_loss)\n",
        "\n",
        "\t\tif SAVE_MODEL: model.save(pretrain=True)\n",
        "\n",
        "\tmodel.logger.plot_performence(pretrain=True)"
      ]
    },
    {
      "cell_type": "code",
      "execution_count": null,
      "metadata": {
        "colab": {
          "base_uri": "https://localhost:8080/",
          "height": 1000
        },
        "id": "6JPf2-xCodNx",
        "notebookRunGroups": {
          "groupValue": "2"
        },
        "outputId": "86cd06fc-5475-4ba8-ea28-8824a3daf239"
      },
      "outputs": [],
      "source": [
        "# Train model\n",
        "for e in range(NUM_EPOCHS):\n",
        "\tprint(f\"Training epoch {model.logger.epochs_trained+1}/{NUM_EPOCHS + model.logger.epochs_trained - e}\")\n",
        "\n",
        "\tmodel.train_model(train_loader)\n",
        "\tmodel.test_model(test_loader, log=True)\n",
        "\n",
        "\t# Show loss and coloring after epoch\n",
        "\tmodel.logger.print_epoch()\n",
        "\tmodel.logger.plot_coloring()\n",
        "\n",
        "\tif SAVE_MODEL: model.save()\n",
        "\n",
        "model.logger.plot_performence()"
      ]
    },
    {
      "cell_type": "markdown",
      "metadata": {},
      "source": [
        "# Test Model"
      ]
    },
    {
      "cell_type": "code",
      "execution_count": null,
      "metadata": {
        "colab": {
          "base_uri": "https://localhost:8080/"
        },
        "id": "MgNncgEguMhk",
        "notebookRunGroups": {
          "groupValue": "3"
        },
        "outputId": "ad01bb7b-e9af-4e46-c249-c31b7ff6f0bc"
      },
      "outputs": [],
      "source": [
        "# If set to None, tests model from the prevous code blocks\n",
        "model_name = None\n",
        "\n",
        "if model_name is not None: model = Painter(model_name, load=True, device=device)"
      ]
    },
    {
      "cell_type": "code",
      "execution_count": null,
      "metadata": {
        "notebookRunGroups": {
          "groupValue": "3"
        }
      },
      "outputs": [],
      "source": [
        "loss_fake, loss_real, gan_loss, l1_loss = model.test_model(test_loader)\n",
        "model.logger.plot_coloring()"
      ]
    }
  ],
  "metadata": {
    "accelerator": "GPU",
    "colab": {
      "collapsed_sections": [
        "etFTf2zxlEcA",
        "q5MHZ08OlJdB",
        "Ou1l_8_baaV0",
        "DRYNcu4mk8Mr",
        "byNCQ_xklQMZ",
        "ZwRAa6SGnHQ2",
        "Cqad-gAqNiOi"
      ],
      "gpuType": "T4",
      "provenance": []
    },
    "kernelspec": {
      "display_name": "Python 3",
      "name": "python3"
    },
    "language_info": {
      "codemirror_mode": {
        "name": "ipython",
        "version": 3
      },
      "file_extension": ".py",
      "mimetype": "text/x-python",
      "name": "python",
      "nbconvert_exporter": "python",
      "pygments_lexer": "ipython3",
      "version": "3.12.2"
    }
  },
  "nbformat": 4,
  "nbformat_minor": 0
}
